{
 "cells": [
  {
   "cell_type": "code",
   "execution_count": 1,
   "metadata": {},
   "outputs": [],
   "source": [
    "%matplotlib inline\n",
    "\n",
    "import numpy as np\n",
    "\n",
    "import matplotlib.pyplot as plt"
   ]
  },
  {
   "cell_type": "code",
   "execution_count": 2,
   "metadata": {},
   "outputs": [],
   "source": [
    "vector1 = np.array([2,5]) #A normal numpy array\n",
    "vector2 = np.array([3,2]) #A normal numpy array"
   ]
  },
  {
   "cell_type": "code",
   "execution_count": 3,
   "metadata": {},
   "outputs": [
    {
     "data": {
      "text/plain": [
       "'\\n#new function with 3 params\\n#alpha: transparency value when making the graph\\n\\ndef graphVectors(par_vec, par_colors, alpha=1):\\n    \\n    plt.figure() #Make a figure out of this\\n    \\n    plt.axvline(x = 0, color=\"red\", zorder=0)\\n    plt.axhline(y = 0, color=\"red\", zorder=0)\\n    \\n    for i in range(len(par_vec)):\\n        x = np.concatenate([[0,0], par_vec[i]]) \\n        #0,0 is the starting point to tell the drawer where the origin is\\n            \\n        plt.quiver([x[0]], [x[1]], [x[2]], [x[3]],\\n                   angles=\"xy\", scale_units=\"xy\", scale=1,\\n                   color=par_colors[i], alpha=alpha)\\n#plt.quiver helps to graph arrows. ↗\\n'"
      ]
     },
     "execution_count": 3,
     "metadata": {},
     "output_type": "execute_result"
    }
   ],
   "source": [
    "\"\"\"\n",
    "#new function with 3 params\n",
    "#alpha: transparency value when making the graph\n",
    "\n",
    "def graphVectors(par_vec, par_colors, alpha=1):\n",
    "    \n",
    "    plt.figure() #Make a figure out of this\n",
    "    \n",
    "    plt.axvline(x = 0, color=\"red\", zorder=0)\n",
    "    plt.axhline(y = 0, color=\"red\", zorder=0)\n",
    "    \n",
    "    for i in range(len(par_vec)):\n",
    "        x = np.concatenate([[0,0], par_vec[i]]) \n",
    "        #0,0 is the starting point to tell the drawer where the origin is\n",
    "            \n",
    "        plt.quiver([x[0]], [x[1]], [x[2]], [x[3]],\n",
    "                   angles=\"xy\", scale_units=\"xy\", scale=1,\n",
    "                   color=par_colors[i], alpha=alpha)\n",
    "#plt.quiver helps to graph arrows. ↗\n",
    "\"\"\""
   ]
  },
  {
   "cell_type": "code",
   "execution_count": 5,
   "metadata": {},
   "outputs": [],
   "source": [
    "%run \"./auxiliary_functions/graphVectors.ipynb\""
   ]
  },
  {
   "cell_type": "code",
   "execution_count": 6,
   "metadata": {},
   "outputs": [
    {
     "data": {
      "text/plain": [
       "(-1.0, 9.0)"
      ]
     },
     "execution_count": 6,
     "metadata": {},
     "output_type": "execute_result"
    },
    {
     "data": {
      "image/png": "[encoded data removed]",
      "text/plain": [
       "<Figure size 432x288 with 1 Axes>"
      ]
     },
     "metadata": {
      "needs_background": "light"
     },
     "output_type": "display_data"
    }
   ],
   "source": [
    "graphVectors([vector1, vector2], [\"orange\", \"blue\"])\n",
    "#The Caller with 3 params, but I put more args\n",
    "\n",
    "plt.xlim(-1,6)\n",
    "plt.ylim(-1,9)"
   ]
  },
  {
   "cell_type": "code",
   "execution_count": null,
   "metadata": {},
   "outputs": [],
   "source": [
    "\n"
   ]
  }
 ],
 "metadata": {
  "kernelspec": {
   "display_name": "Python 3",
   "language": "python",
   "name": "python3"
  },
  "language_info": {
   "codemirror_mode": {
    "name": "ipython",
    "version": 3
   },
   "file_extension": ".py",
   "mimetype": "text/x-python",
   "name": "python",
   "nbconvert_exporter": "python",
   "pygments_lexer": "ipython3",
   "version": "3.8.5"
  }
 },
 "nbformat": 4,
 "nbformat_minor": 4
}
