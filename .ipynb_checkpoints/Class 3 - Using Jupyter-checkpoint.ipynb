{
 "cells": [
  {
   "cell_type": "code",
   "execution_count": null,
   "id": "tough-bumper",
   "metadata": {},
   "outputs": [],
   "source": [
    "print(\"Normal print\")"
   ]
  },
  {
   "cell_type": "code",
   "execution_count": null,
   "id": "brave-israel",
   "metadata": {},
   "outputs": [],
   "source": [
    "from platform import python_version\n",
    "print(python_version())"
   ]
  },
  {
   "cell_type": "code",
   "execution_count": null,
   "id": "stunning-athens",
   "metadata": {},
   "outputs": [],
   "source": [
    "#Nothing out of common, so far."
   ]
  },
  {
   "cell_type": "code",
   "execution_count": 2,
   "id": "affecting-witness",
   "metadata": {},
   "outputs": [],
   "source": [
    "# Commenting\n",
    "# Several \n",
    "# Lines\n",
    "# Click\n",
    "# Enter"
   ]
  }
 ],
 "metadata": {
  "kernelspec": {
   "display_name": "Python 3",
   "language": "python",
   "name": "python3"
  },
  "language_info": {
   "codemirror_mode": {
    "name": "ipython",
    "version": 3
   },
   "file_extension": ".py",
   "mimetype": "text/x-python",
   "name": "python",
   "nbconvert_exporter": "python",
   "pygments_lexer": "ipython3",
   "version": "3.8.5"
  }
 },
 "nbformat": 4,
 "nbformat_minor": 5
}
