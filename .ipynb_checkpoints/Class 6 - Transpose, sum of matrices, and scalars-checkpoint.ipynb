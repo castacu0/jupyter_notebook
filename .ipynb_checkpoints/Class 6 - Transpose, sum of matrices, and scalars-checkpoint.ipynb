{
 "cells": [
  {
   "cell_type": "code",
   "execution_count": 1,
   "id": "private-click",
   "metadata": {},
   "outputs": [],
   "source": [
    "import numpy as np"
   ]
  },
  {
   "cell_type": "code",
   "execution_count": 2,
   "id": "dependent-longitude",
   "metadata": {},
   "outputs": [],
   "source": [
    "scalar = 7.45"
   ]
  },
  {
   "cell_type": "code",
   "execution_count": 3,
   "id": "random-queue",
   "metadata": {},
   "outputs": [],
   "source": [
    "vector = np.array ([2,8,5,4])"
   ]
  },
  {
   "cell_type": "code",
   "execution_count": 4,
   "id": "boring-medicaid",
   "metadata": {},
   "outputs": [],
   "source": [
    "matrix = np.array ([[9,3,7],[4,6,1]])"
   ]
  },
  {
   "cell_type": "code",
   "execution_count": 5,
   "id": "violent-liberty",
   "metadata": {},
   "outputs": [],
   "source": [
    "tensor = np.array ([\n",
    "    \n",
    "[[ 225, 225, 225], [ 225, 225, 225], [ 225, 225, 225]],\n",
    "[[0, 0, 0], [0, 0, 0], [0, 0, 0]],\n",
    "[[112, 112, 112], [112, 112, 112], [112, 112, 112]]\n",
    "\n",
    "])"
   ]
  },
  {
   "cell_type": "code",
   "execution_count": 6,
   "id": "armed-horse",
   "metadata": {},
   "outputs": [],
   "source": [
    "# Syntax\n",
    "\n",
    "# variable_t = variable.T"
   ]
  },
  {
   "cell_type": "code",
   "execution_count": 7,
   "id": "current-pontiac",
   "metadata": {},
   "outputs": [],
   "source": [
    "# scalar_t = scalar.T # a scalar is just a number"
   ]
  },
  {
   "cell_type": "code",
   "execution_count": 8,
   "id": "exposed-albert",
   "metadata": {},
   "outputs": [
    {
     "name": "stdout",
     "output_type": "stream",
     "text": [
      "[2 8 5 4]\n"
     ]
    }
   ],
   "source": [
    "vector_t = vector.T #This should work\n",
    "print(vector_t)     #Time to print it"
   ]
  },
  {
   "cell_type": "code",
   "execution_count": 9,
   "id": "crude-fitness",
   "metadata": {},
   "outputs": [
    {
     "name": "stdout",
     "output_type": "stream",
     "text": [
      "[[9 3 7]\n",
      " [4 6 1]]\n",
      "\n",
      "\n",
      "[[9 4]\n",
      " [3 6]\n",
      " [7 1]]\n"
     ]
    }
   ],
   "source": [
    "matrix_t = matrix.T\n",
    "print(matrix)\n",
    "print(\"\\n\")\n",
    "print(matrix_t)"
   ]
  },
  {
   "cell_type": "code",
   "execution_count": 10,
   "id": "gothic-respondent",
   "metadata": {},
   "outputs": [
    {
     "name": "stdout",
     "output_type": "stream",
     "text": [
      "(2, 3)\n",
      "\n",
      "\n",
      "(3, 2)\n"
     ]
    }
   ],
   "source": [
    "matrix_t = matrix.T\n",
    "print(matrix.shape) # dimentions with .shape\n",
    "print(\"\\n\")\n",
    "print(matrix_t.shape) #shape works for checking a thing's dimentions"
   ]
  },
  {
   "cell_type": "code",
   "execution_count": 11,
   "id": "ultimate-modification",
   "metadata": {},
   "outputs": [
    {
     "name": "stdout",
     "output_type": "stream",
     "text": [
      "[[9 3 7]\n",
      " [4 6 1]]\n"
     ]
    }
   ],
   "source": [
    "print(matrix) #The Original one"
   ]
  },
  {
   "cell_type": "code",
   "execution_count": 12,
   "id": "worldwide-ordinance",
   "metadata": {},
   "outputs": [
    {
     "name": "stdout",
     "output_type": "stream",
     "text": [
      "[[9 3 7]\n",
      " [4 6 1]]\n"
     ]
    }
   ],
   "source": [
    "matrix_t_t = matrix_t.T  #Same matrix \n",
    "print(matrix_t_t)"
   ]
  },
  {
   "cell_type": "code",
   "execution_count": 13,
   "id": "judicial-seeking",
   "metadata": {},
   "outputs": [],
   "source": [
    "# MATRIX ADDITION"
   ]
  },
  {
   "cell_type": "code",
   "execution_count": 14,
   "id": "indian-netherlands",
   "metadata": {},
   "outputs": [
    {
     "name": "stdout",
     "output_type": "stream",
     "text": [
      "[[ 9 15]\n",
      " [ 7  2]\n",
      " [ 5  4]]\n"
     ]
    }
   ],
   "source": [
    "A = np.array([\n",
    "    [9,15],\n",
    "    [7,2],\n",
    "    [5,4]\n",
    "]) #3 rows x 2 columns\n",
    "print(A)"
   ]
  },
  {
   "cell_type": "code",
   "execution_count": 15,
   "id": "fifth-avenue",
   "metadata": {},
   "outputs": [
    {
     "name": "stdout",
     "output_type": "stream",
     "text": [
      "[[ 1  2]\n",
      " [13  4]\n",
      " [94 26]]\n"
     ]
    }
   ],
   "source": [
    "B = np.array([\n",
    "    [1,2],\n",
    "    [13,4],\n",
    "    [94,26]\n",
    "]) #3 rows x 2 columns, too.\n",
    "#because we're gonna sum them.\n",
    "print(B)"
   ]
  },
  {
   "cell_type": "code",
   "execution_count": 16,
   "id": "designed-florence",
   "metadata": {},
   "outputs": [
    {
     "name": "stdout",
     "output_type": "stream",
     "text": [
      "[[10 17]\n",
      " [20  6]\n",
      " [99 30]]\n"
     ]
    }
   ],
   "source": [
    "C = A + B #Matrix A + B\n",
    "print(C)"
   ]
  },
  {
   "cell_type": "code",
   "execution_count": 17,
   "id": "right-replica",
   "metadata": {},
   "outputs": [
    {
     "name": "stdout",
     "output_type": "stream",
     "text": [
      "7.45\n"
     ]
    }
   ],
   "source": [
    "print(scalar)"
   ]
  },
  {
   "cell_type": "code",
   "execution_count": 19,
   "id": "oriented-chancellor",
   "metadata": {},
   "outputs": [
    {
     "name": "stdout",
     "output_type": "stream",
     "text": [
      "[[9 3 7]\n",
      " [4 6 1]]\n"
     ]
    }
   ],
   "source": [
    "print(matrix)"
   ]
  },
  {
   "cell_type": "code",
   "execution_count": 21,
   "id": "unnecessary-testament",
   "metadata": {},
   "outputs": [
    {
     "name": "stdout",
     "output_type": "stream",
     "text": [
      "[[16.45 10.45 14.45]\n",
      " [11.45 13.45  8.45]]\n"
     ]
    }
   ],
   "source": [
    "sc_mtx = scalar + matrix\n",
    "print(sc_mtx)"
   ]
  },
  {
   "cell_type": "code",
   "execution_count": 29,
   "id": "placed-password",
   "metadata": {},
   "outputs": [
    {
     "name": "stdout",
     "output_type": "stream",
     "text": [
      "[[ 1  2  3  4  5]\n",
      " [11 12 13 14 15]\n",
      " [21 22 23 24 25]\n",
      " [31 32 33 34 35]\n",
      " [41 42 43 44 45]]\n",
      "<class 'numpy.ndarray'>\n",
      "(5, 5)\n",
      "5\n"
     ]
    }
   ],
   "source": [
    "X = np.array([\n",
    "    [ 1, 2, 3, 4, 5],\n",
    "    [11,12,13,14,15],\n",
    "    [21,22,23,24,25],\n",
    "    [31,32,33,34,35],\n",
    "    [41,42,43,44,45]\n",
    "])\n",
    "\n",
    "print(X) # The whole matrix\n",
    "print(type(X)) #>>> <class 'numpy.ndarray'>\n",
    "print(X.shape) #>>> (5, 5)\n",
    "print(len(X)) #>>> 5"
   ]
  },
  {
   "cell_type": "code",
   "execution_count": 30,
   "id": "intimate-capture",
   "metadata": {},
   "outputs": [
    {
     "name": "stdout",
     "output_type": "stream",
     "text": [
      "[[ 1 11 21 31 41]\n",
      " [ 2 12 22 32 42]\n",
      " [ 3 13 23 33 43]\n",
      " [ 4 14 24 34 44]\n",
      " [ 5 15 25 35 45]]\n"
     ]
    }
   ],
   "source": [
    "X_t = X.T # The transpose of X\n",
    "print(X_t)"
   ]
  },
  {
   "cell_type": "code",
   "execution_count": 32,
   "id": "cognitive-yesterday",
   "metadata": {},
   "outputs": [
    {
     "name": "stdout",
     "output_type": "stream",
     "text": [
      "[[ 2 13 24 35 46]\n",
      " [13 24 35 46 57]\n",
      " [24 35 46 57 68]\n",
      " [35 46 57 68 79]\n",
      " [46 57 68 79 90]]\n"
     ]
    }
   ],
   "source": [
    "sum_of_both = X + X_t\n",
    "print(sum_of_both)"
   ]
  },
  {
   "cell_type": "code",
   "execution_count": null,
   "id": "guided-helena",
   "metadata": {},
   "outputs": [],
   "source": [
    "# Comments and Extra material"
   ]
  },
  {
   "cell_type": "code",
   "execution_count": 41,
   "id": "coated-matrix",
   "metadata": {},
   "outputs": [
    {
     "name": "stdout",
     "output_type": "stream",
     "text": [
      "[[ 1  2]\n",
      " [33  4]\n",
      " [ 5 56]]\n",
      "He\n",
      "\n",
      "[[ 6 15]\n",
      " [ 4  9]\n",
      " [ 8  1]]\n",
      "\n",
      "\n",
      "[[ 7 17]\n",
      " [37 13]\n",
      " [13 57]]\n"
     ]
    }
   ],
   "source": [
    "a = np.array([\n",
    "    [1,2],\n",
    "    [33,4],\n",
    "    [5,56]\n",
    "])\n",
    "\n",
    "b = np.array([\n",
    "    [6,15],\n",
    "    [4,9],\n",
    "    [8,1]\n",
    "])\n",
    "\n",
    "c = np.array([[0,0],[0,0],[0,0]])\n",
    "\n",
    "#nested while loops\n",
    "# i outer traveler\n",
    "# j inner one\n",
    "\n",
    "i = 0\n",
    "while (i<3):\n",
    "  j = 0\n",
    "  while (j<2):\n",
    "    c[i][j] = a[i][j] + b[i][j]\n",
    "    j = j + 1\n",
    "  i = i + 1\n",
    "\n",
    "print(a)\n",
    "print(\"\\n\")\n",
    "print(b)\n",
    "print(\"\\n\")\n",
    "print(c) #it receives everything"
   ]
  }
 ],
 "metadata": {
  "kernelspec": {
   "display_name": "Python 3",
   "language": "python",
   "name": "python3"
  },
  "language_info": {
   "codemirror_mode": {
    "name": "ipython",
    "version": 3
   },
   "file_extension": ".py",
   "mimetype": "text/x-python",
   "name": "python",
   "nbconvert_exporter": "python",
   "pygments_lexer": "ipython3",
   "version": "3.8.5"
  }
 },
 "nbformat": 4,
 "nbformat_minor": 5
}
