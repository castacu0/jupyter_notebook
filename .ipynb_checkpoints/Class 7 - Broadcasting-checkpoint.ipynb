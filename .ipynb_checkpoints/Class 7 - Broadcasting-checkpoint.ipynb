{
 "cells": [
  {
   "cell_type": "code",
   "execution_count": 1,
   "metadata": {},
   "outputs": [],
   "source": [
    "import numpy as np"
   ]
  },
  {
   "cell_type": "code",
   "execution_count": 2,
   "metadata": {},
   "outputs": [],
   "source": [
    "scalar = 2.50\n",
    "vector = np.array ([2,8,5])   # Original ([2,8,5,4])\n",
    "matrix = np.array ([\n",
    "    [9,7],\n",
    "    [4,1],\n",
    "    [8,2],\n",
    "])"
   ]
  },
  {
   "cell_type": "code",
   "execution_count": 3,
   "metadata": {},
   "outputs": [],
   "source": [
    "tensor = np.array ([\n",
    "    \n",
    "[[225, 225, 225], [225, 225, 225], [225, 225, 225]],\n",
    "[[0, 0, 0],       [0, 0, 0],       [0, 0, 0]],\n",
    "[[112, 112, 112], [112, 112, 112], [112, 112, 112]]\n",
    "\n",
    "])"
   ]
  },
  {
   "cell_type": "code",
   "execution_count": 4,
   "metadata": {},
   "outputs": [
    {
     "name": "stdout",
     "output_type": "stream",
     "text": [
      "[[9 7]\n",
      " [4 1]\n",
      " [8 2]]\n"
     ]
    }
   ],
   "source": [
    "print(matrix)"
   ]
  },
  {
   "cell_type": "code",
   "execution_count": 5,
   "metadata": {},
   "outputs": [
    {
     "name": "stdout",
     "output_type": "stream",
     "text": [
      "[[9 4 8]\n",
      " [7 1 2]]\n"
     ]
    }
   ],
   "source": [
    "matrix_t = matrix.T\n",
    "print(matrix_t)"
   ]
  },
  {
   "cell_type": "code",
   "execution_count": null,
   "metadata": {},
   "outputs": [],
   "source": [
    "# Matrix(3,2) + Vector(1,3) ❌\n",
    "# Example 1 ⚡\n",
    "\n",
    "A = vector + matrix"
   ]
  },
  {
   "cell_type": "code",
   "execution_count": 7,
   "metadata": {},
   "outputs": [
    {
     "name": "stdout",
     "output_type": "stream",
     "text": [
      "[[11 12 13]\n",
      " [ 9  9  7]]\n"
     ]
    }
   ],
   "source": [
    "# The Transpose of a Matrix + Vector ✔\n",
    "# Example 2 ⚡\n",
    "\n",
    "B = matrix_t + vector\n",
    "print(B)"
   ]
  },
  {
   "cell_type": "code",
   "execution_count": 10,
   "metadata": {},
   "outputs": [
    {
     "name": "stdout",
     "output_type": "stream",
     "text": [
      "[[11.5  6.5 10.5]\n",
      " [ 9.5  3.5  4.5]]\n"
     ]
    }
   ],
   "source": [
    "# Matrix_t + Scalar\n",
    "# Example 3 ⚡\n",
    "\n",
    "C = matrix_t + scalar\n",
    "print(C)"
   ]
  },
  {
   "cell_type": "code",
   "execution_count": 9,
   "metadata": {},
   "outputs": [
    {
     "name": "stdout",
     "output_type": "stream",
     "text": [
      "[[9 4 8]\n",
      " [7 1 2]]\n"
     ]
    }
   ],
   "source": [
    "print(matrix_t)"
   ]
  },
  {
   "cell_type": "code",
   "execution_count": 13,
   "metadata": {},
   "outputs": [
    {
     "name": "stdout",
     "output_type": "stream",
     "text": [
      "[[11.5  6.5 10.5]\n",
      " [ 9.5  3.5  4.5]]\n"
     ]
    }
   ],
   "source": [
    "# Matrix_t + new upper vector. Python will broadcast the lower oner\n",
    "# Example 4 ⚡\n",
    "\n",
    "D = matrix_t + np.array([2.5,2.5,2.5]) #this is a new vector\n",
    "print(D)"
   ]
  },
  {
   "cell_type": "code",
   "execution_count": 14,
   "metadata": {},
   "outputs": [],
   "source": [
    "# Challenge / Homework"
   ]
  },
  {
   "cell_type": "code",
   "execution_count": 18,
   "metadata": {},
   "outputs": [],
   "source": [
    "vector_c = np.array([1000,0,1000,0,1000])\n",
    "matrix_c = np.array([\n",
    "    [ 1, 2, 3, 4, 5],\n",
    "    [11,12,13,14,15],\n",
    "    [21,22,23,24,25],\n",
    "    [31,32,33,34,35],\n",
    "    [41,42,43,44,45]\n",
    "])"
   ]
  },
  {
   "cell_type": "code",
   "execution_count": 21,
   "metadata": {},
   "outputs": [
    {
     "name": "stdout",
     "output_type": "stream",
     "text": [
      "[[1001    2 1003    4 1005]\n",
      " [1011   12 1013   14 1015]\n",
      " [1021   22 1023   24 1025]\n",
      " [1031   32 1033   34 1035]\n",
      " [1041   42 1043   44 1045]]\n"
     ]
    }
   ],
   "source": [
    "sum_c = vector_c + matrix_c\n",
    "print(sum_c)"
   ]
  },
  {
   "cell_type": "code",
   "execution_count": 22,
   "metadata": {},
   "outputs": [
    {
     "name": "stdout",
     "output_type": "stream",
     "text": [
      "[[1001    2 1003    4 1005]\n",
      " [1011   12 1013   14 1015]\n",
      " [1021   22 1023   24 1025]\n",
      " [1031   32 1033   34 1035]\n",
      " [1041   42 1043   44 1045]]\n"
     ]
    }
   ],
   "source": [
    "sum_d = matrix_c + vector_c \n",
    "print(sum_d)"
   ]
  }
 ],
 "metadata": {
  "kernelspec": {
   "display_name": "Python 3",
   "language": "python",
   "name": "python3"
  },
  "language_info": {
   "codemirror_mode": {
    "name": "ipython",
    "version": 3
   },
   "file_extension": ".py",
   "mimetype": "text/x-python",
   "name": "python",
   "nbconvert_exporter": "python",
   "pygments_lexer": "ipython3",
   "version": "3.8.5"
  }
 },
 "nbformat": 4,
 "nbformat_minor": 5
}
