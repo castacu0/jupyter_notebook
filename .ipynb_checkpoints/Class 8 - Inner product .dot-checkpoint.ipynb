{
 "cells": [
  {
   "cell_type": "code",
   "execution_count": 1,
   "metadata": {},
   "outputs": [],
   "source": [
    "import numpy as np"
   ]
  },
  {
   "cell_type": "code",
   "execution_count": 2,
   "metadata": {},
   "outputs": [],
   "source": [
    "scalar = 2.50\n",
    "vector = np.array ([8,1])   # Original ([2,8,5,4])\n",
    "matrix = np.array ([\n",
    "    [9,7],\n",
    "    [4,1],\n",
    "    [8,2],\n",
    "])"
   ]
  },
  {
   "cell_type": "code",
   "execution_count": 3,
   "metadata": {},
   "outputs": [
    {
     "name": "stdout",
     "output_type": "stream",
     "text": [
      "[[72  7]\n",
      " [32  1]\n",
      " [64  2]]\n"
     ]
    }
   ],
   "source": [
    "broadcasting = matrix * vector #broadcasting method\n",
    "print(broadcasting)"
   ]
  },
  {
   "cell_type": "code",
   "execution_count": 6,
   "metadata": {},
   "outputs": [
    {
     "name": "stdout",
     "output_type": "stream",
     "text": [
      "[79 33 66]\n",
      "[79 33 66]\n"
     ]
    }
   ],
   "source": [
    "#Dot product or Inner product\n",
    "\n",
    "Dot = matrix.dot(vector) #NOT Broadcasting\n",
    "print(Dot)\n",
    "\n",
    "Dot_2 = np.dot(matrix, vector)\n",
    "print(Dot_2)"
   ]
  },
  {
   "cell_type": "code",
   "execution_count": 5,
   "metadata": {},
   "outputs": [
    {
     "name": "stdout",
     "output_type": "stream",
     "text": [
      "[[ 10  20  30  40]\n",
      " [ 20  40  60  80]\n",
      " [ 30  60  90 120]\n",
      " [ 40  80 120 160]]\n"
     ]
    }
   ],
   "source": [
    "# ⚡ Outer Product ⚡\n",
    "\n",
    "x = [[1,2],[3,4]] #matrix\n",
    "y = [[10,20],[30,40]] #2nd matrix\n",
    "\n",
    "C = np.outer(x, y) #both matrices as parameters\n",
    "print(C)\n",
    "\n",
    "# First row --->   1x10 then 1x20 then 1x30 an so on\n",
    "# Same with 2, 3, and 4:   3x10=30, 3x20=60, 3x30=90, 3x40=120"
   ]
  },
  {
   "cell_type": "code",
   "execution_count": 13,
   "metadata": {},
   "outputs": [
    {
     "name": "stdout",
     "output_type": "stream",
     "text": [
      "[[[ 20 100]\n",
      "  [ 40 900]]\n",
      "\n",
      " [[ 50 600]\n",
      "  [ 30 800]]]\n"
     ]
    }
   ],
   "source": [
    "#Homework\n",
    "\n",
    "matrix_c = np.array([\n",
    "    [[2,1],\n",
    "     [4,9]],\n",
    "    \n",
    "    [[5,6],\n",
    "     [3,8]],\n",
    "])\n",
    "vector_c = np.array([10,100])\n",
    "\n",
    "both = matrix_c * vector_c\n",
    "print(both)"
   ]
  },
  {
   "cell_type": "code",
   "execution_count": 18,
   "metadata": {},
   "outputs": [
    {
     "name": "stdout",
     "output_type": "stream",
     "text": [
      "[[120 940]\n",
      " [650 830]]\n",
      "\n",
      "\n",
      "[[20 17]\n",
      " [43 56]]\n"
     ]
    }
   ],
   "source": [
    "#c = Challenge  /  Homework ⚡\n",
    "\n",
    "vector_c = np.array([10,100]) #New vector\n",
    "matrix_c = np.array([\n",
    "    [[2,1],\n",
    "     [4,9]],\n",
    "    \n",
    "    [[5,6],\n",
    "     [3,8]],\n",
    "])                             #New matrix\n",
    "\n",
    "m = matrix_c.dot(vector_c) #Inner product\n",
    "v = vector.dot(matrix_c)   #Inner product\n",
    "\n",
    "print(m)\n",
    "print(\"\\n\") # new line\n",
    "print(v)"
   ]
  }
 ],
 "metadata": {
  "kernelspec": {
   "display_name": "Python 3",
   "language": "python",
   "name": "python3"
  },
  "language_info": {
   "codemirror_mode": {
    "name": "ipython",
    "version": 3
   },
   "file_extension": ".py",
   "mimetype": "text/x-python",
   "name": "python",
   "nbconvert_exporter": "python",
   "pygments_lexer": "ipython3",
   "version": "3.8.5"
  }
 },
 "nbformat": 4,
 "nbformat_minor": 4
}
