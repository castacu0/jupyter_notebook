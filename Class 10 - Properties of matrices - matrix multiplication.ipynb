{
 "cells": [
  {
   "cell_type": "code",
   "execution_count": 1,
   "metadata": {},
   "outputs": [],
   "source": [
    "import numpy as np"
   ]
  },
  {
   "cell_type": "code",
   "execution_count": 11,
   "metadata": {},
   "outputs": [
    {
     "name": "stdout",
     "output_type": "stream",
     "text": [
      "[[ 2  3]\n",
      " [ 5  7]\n",
      " [11 13]] \n",
      "\n",
      "[[1 3]\n",
      " [2 1]] \n",
      "\n",
      "[[3 1]\n",
      " [4 2]]\n"
     ]
    }
   ],
   "source": [
    "A = np.array([[2,3],[5,7],[11,13]])\n",
    "B = np.array([[1,3],[2,1]])\n",
    "C = np.array([[3,1],[4,2]])\n",
    "print(A, \"\\n\")\n",
    "print(B, \"\\n\")\n",
    "print(C)"
   ]
  },
  {
   "cell_type": "code",
   "execution_count": 12,
   "metadata": {},
   "outputs": [
    {
     "name": "stdout",
     "output_type": "stream",
     "text": [
      "[[ 60  26]\n",
      " [145  63]\n",
      " [295 129]] \n",
      "\n",
      "[[ 60  26]\n",
      " [145  63]\n",
      " [295 129]]\n"
     ]
    }
   ],
   "source": [
    "#🟢 Associative   ✔    A*(B*C) = (A*B)*C\n",
    "E = A.dot(B.dot(C))\n",
    "F = (A.dot(B)).dot(C)\n",
    "\n",
    "print(E, \"\\n\")\n",
    "print(F)"
   ]
  },
  {
   "cell_type": "code",
   "execution_count": 9,
   "metadata": {},
   "outputs": [
    {
     "name": "stdout",
     "output_type": "stream",
     "text": [
      "[[ 26  17]\n",
      " [ 62  41]\n",
      " [122  83]]\n",
      "[[ 26  17]\n",
      " [ 62  41]\n",
      " [122  83]]\n",
      "\n",
      " [[ True  True]\n",
      " [ True  True]\n",
      " [ True  True]]\n"
     ]
    }
   ],
   "source": [
    "#🟢 Distributive  ✔   A*(B+C) = (A*B)+(A*C)\n",
    "G = A.dot(B+C)\n",
    "H = (A.dot(B) + A.dot(C))\n",
    "\n",
    "print(G)\n",
    "print(H)\n",
    "print(\"\\n\", G==H)"
   ]
  },
  {
   "cell_type": "code",
   "execution_count": 8,
   "metadata": {},
   "outputs": [
    {
     "name": "stdout",
     "output_type": "stream",
     "text": [
      "[[15  7]\n",
      " [10  4]]\n",
      "[[ 5 10]\n",
      " [ 8 14]]\n",
      "\n",
      " [[False False]\n",
      " [False False]]\n"
     ]
    }
   ],
   "source": [
    "#🟢 Commutative ❌ B*C  =  C*B\n",
    "I = B.dot(C)\n",
    "J = C.dot(B)\n",
    "\n",
    "print(I)\n",
    "print(J)\n",
    "print(\"\\n\", I==J)"
   ]
  },
  {
   "cell_type": "code",
   "execution_count": 6,
   "metadata": {},
   "outputs": [
    {
     "name": "stdout",
     "output_type": "stream",
     "text": [
      "[2 8 1]\n",
      "[3 9 4]\n",
      "\n",
      "\n",
      "[2 8 1]\n",
      "[3 9 4]\n"
     ]
    }
   ],
   "source": [
    "v1 = np.array([2,8,1])\n",
    "v2 = np.array([3,9,4])\n",
    "\n",
    "v1_t = v1.T\n",
    "v2_t = v2.T\n",
    "\n",
    "print(v1)\n",
    "print(v2)\n",
    "print(\"\\n\")\n",
    "print(v1_t) #but vertical\n",
    "print(v2_t) #but vertical"
   ]
  },
  {
   "cell_type": "code",
   "execution_count": 14,
   "metadata": {},
   "outputs": [
    {
     "name": "stdout",
     "output_type": "stream",
     "text": [
      "82\n",
      "82\n"
     ]
    }
   ],
   "source": [
    "v1_t_dot_v2 = v1.T.dot(v2)\n",
    "\n",
    "v2_t_dot_v1 = v2.T.dot(v1)\n",
    "\n",
    "print(v1_t_dot_v2)\n",
    "\n",
    "print(v2_t_dot_v1)"
   ]
  },
  {
   "cell_type": "code",
   "execution_count": 26,
   "metadata": {},
   "outputs": [
    {
     "name": "stdout",
     "output_type": "stream",
     "text": [
      "[[ 9  5]\n",
      " [ 8  6]\n",
      " [10  4]\n",
      " [ 2  1]] (4, 2) \n",
      "\n",
      "[[ 9  5  9]\n",
      " [ 8  6 12]] (2, 3) \n",
      "\n",
      "[[121  75 141]\n",
      " [120  76 144]\n",
      " [122  74 138]\n",
      " [ 26  16  30]]\n"
     ]
    }
   ],
   "source": [
    "# ⭐ Challege ⭐\n",
    "\n",
    "m1 = np.array([[9,5],[8,6],[10,4],[2,1]])\n",
    "m2 = np.array([[9,5,9],[8,6,12],])\n",
    "\n",
    "print(m1, m1.shape, \"\\n\") # new line\n",
    "print(m2, m2.shape, \"\\n\") # new line\n",
    "\n",
    "new_m_1 = m1.dot(m2)\n",
    "print(new_m_1) \n",
    "\n",
    "\"\"\"new_m_2 = m2.dot(m1)\n",
    "   #This doesn't work.\n",
    "   #Because the rows(4) != from the columns(3)\"\"\"\n"
   ]
  }
 ],
 "metadata": {
  "kernelspec": {
   "display_name": "Python 3",
   "language": "python",
   "name": "python3"
  },
  "language_info": {
   "codemirror_mode": {
    "name": "ipython",
    "version": 3
   },
   "file_extension": ".py",
   "mimetype": "text/x-python",
   "name": "python",
   "nbconvert_exporter": "python",
   "pygments_lexer": "ipython3",
   "version": "3.8.5"
  }
 },
 "nbformat": 4,
 "nbformat_minor": 4
}
