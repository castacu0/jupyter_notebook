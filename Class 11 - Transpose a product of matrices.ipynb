{
 "cells": [
  {
   "cell_type": "code",
   "execution_count": 1,
   "metadata": {},
   "outputs": [],
   "source": [
    "import numpy as np"
   ]
  },
  {
   "cell_type": "code",
   "execution_count": 2,
   "metadata": {},
   "outputs": [
    {
     "name": "stdout",
     "output_type": "stream",
     "text": [
      "[[1 2]\n",
      " [4 5]\n",
      " [7 8]] \n",
      "\n",
      "[[2 3]\n",
      " [5 7]]\n"
     ]
    }
   ],
   "source": [
    "A = np.array([[1,2],[4,5],[7,8]])\n",
    "B = np.array([[2,3],[5,7]])\n",
    "\n",
    "print(A, \"\\n\")\n",
    "print(B)"
   ]
  },
  {
   "cell_type": "code",
   "execution_count": 3,
   "metadata": {},
   "outputs": [
    {
     "name": "stdout",
     "output_type": "stream",
     "text": [
      "[[12 33 54]\n",
      " [17 47 77]]\n",
      "[[12 33 54]\n",
      " [17 47 77]]\n"
     ]
    }
   ],
   "source": [
    "Z = A.dot(B).T \n",
    "J = B.T.dot(A.T)\n",
    "print(Z)\n",
    "print(J)"
   ]
  },
  {
   "cell_type": "code",
   "execution_count": 4,
   "metadata": {},
   "outputs": [
    {
     "name": "stdout",
     "output_type": "stream",
     "text": [
      "[[ True  True  True]\n",
      " [ True  True  True]]\n"
     ]
    }
   ],
   "source": [
    "#    ⚡ Quick property ⚡\n",
    "#    (A * B)^t   =  B^t * A^t\n",
    "\n",
    "X = A.dot(B).T == B.T.dot(A.T)\n",
    "print(X)"
   ]
  }
 ],
 "metadata": {
  "kernelspec": {
   "display_name": "Python 3",
   "language": "python",
   "name": "python3"
  },
  "language_info": {
   "codemirror_mode": {
    "name": "ipython",
    "version": 3
   },
   "file_extension": ".py",
   "mimetype": "text/x-python",
   "name": "python",
   "nbconvert_exporter": "python",
   "pygments_lexer": "ipython3",
   "version": "3.8.5"
  }
 },
 "nbformat": 4,
 "nbformat_minor": 4
}
