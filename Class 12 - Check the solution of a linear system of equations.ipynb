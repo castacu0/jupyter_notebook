{
 "cells": [
  {
   "cell_type": "code",
   "execution_count": 1,
   "metadata": {},
   "outputs": [],
   "source": [
    "# System of linear equations"
   ]
  },
  {
   "cell_type": "code",
   "execution_count": 2,
   "metadata": {},
   "outputs": [],
   "source": [
    "%matplotlib inline\n",
    "import numpy as np\n",
    "import matplotlib.pyplot as plt"
   ]
  },
  {
   "cell_type": "code",
   "execution_count": 9,
   "metadata": {},
   "outputs": [
    {
     "name": "stdout",
     "output_type": "stream",
     "text": [
      "[-5 -4 -3 -2 -1  0  1  2  3  4]\n"
     ]
    }
   ],
   "source": [
    "x = np.arange(-5,5) #not inclusive, from -10 to 10, in 2 pairs\n",
    "print(x)"
   ]
  },
  {
   "cell_type": "code",
   "execution_count": 10,
   "metadata": {},
   "outputs": [],
   "source": [
    "y_1 = 3*x + 5\n",
    "y_2 = 2*x + 3"
   ]
  },
  {
   "cell_type": "code",
   "execution_count": 13,
   "metadata": {},
   "outputs": [
    {
     "data": {
      "text/plain": [
       "<matplotlib.lines.Line2D at 0x26f6e35afd0>"
      ]
     },
     "execution_count": 13,
     "metadata": {},
     "output_type": "execute_result"
    },
    {
     "data": {
      "image/png": "[encoded data removed]",
      "text/plain": [
       "<Figure size 432x288 with 1 Axes>"
      ]
     },
     "metadata": {
      "needs_background": "light"
     },
     "output_type": "display_data"
    }
   ],
   "source": [
    "plt.figure() #Make a shape, please\n",
    "\n",
    "plt.plot(x, y_1) #We want it to have, the values of \n",
    "plt.plot(x, y_2) #The second stroke \n",
    "\n",
    "plt.xlim(-5,5) #Between which values / x limit\n",
    "plt.ylim(-5,5) #Between which values / y limit\n",
    "\n",
    "plt.axvline(x=2, color='red') #axis vertical | line\n",
    "plt.axhline(y=0, color='green') #axis horizontal | line"
   ]
  },
  {
   "cell_type": "code",
   "execution_count": 17,
   "metadata": {},
   "outputs": [
    {
     "name": "stdout",
     "output_type": "stream",
     "text": [
      "[[-3  1]\n",
      " [-2  1]]\n",
      "[[5]\n",
      " [3]] \n",
      "\n",
      "[[-2.]\n",
      " [-1.]]\n",
      "[[-2.]\n",
      " [-1.]]\n"
     ]
    }
   ],
   "source": [
    "A = np.matrix([ [-3, 1], [-2, 1] ])\n",
    "print(A)\n",
    "b = np.matrix([ [5], [3] ])\n",
    "print(b,'\\n')\n",
    "\n",
    "x = (A**-1)*b #A to the power of -1  times b\n",
    "yy = (A**-1)\n",
    "\n",
    "print(x)\n",
    "print(yy*b)"
   ]
  },
  {
   "cell_type": "code",
   "execution_count": 7,
   "metadata": {},
   "outputs": [
    {
     "name": "stdout",
     "output_type": "stream",
     "text": [
      "[[-2.]\n",
      " [-1.]]\n"
     ]
    }
   ],
   "source": [
    "import numpy.linalg as lin\t#librery to get the inverse\n",
    "\n",
    "A = np.array([ [-3, 1], [-2, 1] ])\n",
    "C = np.array([ [5], [3] ])\n",
    "\n",
    "B = lin.inv(A) @ C\n",
    "print(B)\n",
    "\n"
   ]
  },
  {
   "cell_type": "code",
   "execution_count": null,
   "metadata": {},
   "outputs": [],
   "source": []
  }
 ],
 "metadata": {
  "kernelspec": {
   "display_name": "Python 3",
   "language": "python",
   "name": "python3"
  },
  "language_info": {
   "codemirror_mode": {
    "name": "ipython",
    "version": 3
   },
   "file_extension": ".py",
   "mimetype": "text/x-python",
   "name": "python",
   "nbconvert_exporter": "python",
   "pygments_lexer": "ipython3",
   "version": "3.8.5"
  }
 },
 "nbformat": 4,
 "nbformat_minor": 4
}
