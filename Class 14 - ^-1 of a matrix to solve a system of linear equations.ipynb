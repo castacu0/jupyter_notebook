{
 "cells": [
  {
   "cell_type": "code",
   "execution_count": 1,
   "metadata": {},
   "outputs": [
    {
     "data": {
      "text/plain": [
       "'\\nx = A.dot(inverse_of_A) \\nA * A^-1🔴 with inner product\\nprint(x) \\n\\n#Returns the Identity💧'"
      ]
     },
     "execution_count": 1,
     "metadata": {},
     "output_type": "execute_result"
    }
   ],
   "source": [
    "# Ax=b\n",
    "# Now to solve x \n",
    "# I multiply the inverse of A for both sides of the equation. \n",
    "\n",
    "# Staying as follows: \n",
    "#   --> A * x = b\n",
    "\n",
    "#   --> inv_A * A * x = inv_A * b   #Side note inv_A * A equals Inverse=I🔴\n",
    "\n",
    "#   --> I * x = inv_A * b \n",
    "\n",
    "#   --> x = inv_A * b\n",
    "\n",
    "# 'I' means Inverse 🔴\n",
    "\n",
    "\n",
    "\n",
    "\"\"\"\n",
    "x = A.dot(inverse_of_A) \n",
    "A * A^-1🔴 with inner product\n",
    "print(x) \n",
    "\n",
    "#Returns the Identity💧\"\"\""
   ]
  },
  {
   "cell_type": "code",
   "execution_count": 2,
   "metadata": {},
   "outputs": [],
   "source": [
    "import numpy as np"
   ]
  },
  {
   "cell_type": "code",
   "execution_count": 3,
   "metadata": {},
   "outputs": [],
   "source": [
    "np.set_printoptions(suppress=True)"
   ]
  },
  {
   "cell_type": "code",
   "execution_count": 4,
   "metadata": {},
   "outputs": [
    {
     "data": {
      "text/plain": [
       "'\\n3x + y = 1\\n2x + y = 1\\n\\n[3 1]  [x] = [1]\\n[2 1]  [y] = [1]\\n  A     x     b\\n\\nAx = b\\n'"
      ]
     },
     "execution_count": 4,
     "metadata": {},
     "output_type": "execute_result"
    }
   ],
   "source": [
    "# System of linear equations 🎭\n",
    "\"\"\"\n",
    "Ax = b\n",
    "\n",
    "3x + y = 1\n",
    "2x + y = 1\n",
    "\n",
    "[3 1]  [x] = [1]\n",
    "[2 1]  [y] = [1]\n",
    "  A     x     b\n",
    "\n",
    "\n",
    "\"\"\""
   ]
  },
  {
   "cell_type": "code",
   "execution_count": 5,
   "metadata": {},
   "outputs": [
    {
     "name": "stdout",
     "output_type": "stream",
     "text": [
      "[[3 1]\n",
      " [2 1]]\n"
     ]
    }
   ],
   "source": [
    "#New matrix A\n",
    "A = np.array([[3,1],[2,1]])\n",
    "print(A)"
   ]
  },
  {
   "cell_type": "code",
   "execution_count": 10,
   "metadata": {},
   "outputs": [
    {
     "name": "stdout",
     "output_type": "stream",
     "text": [
      "[[ 1. -1.]\n",
      " [-2.  3.]]\n"
     ]
    }
   ],
   "source": [
    "#Inverse of A🔴 = A^-1\n",
    "inv_A = np.linalg.inv(A)\n",
    "print(inv_A) #in Floats"
   ]
  },
  {
   "cell_type": "code",
   "execution_count": 6,
   "metadata": {},
   "outputs": [
    {
     "name": "stdout",
     "output_type": "stream",
     "text": [
      "[[1]\n",
      " [1]]\n"
     ]
    }
   ],
   "source": [
    "b = np.array([[1],[1]])\n",
    "print(b)"
   ]
  },
  {
   "cell_type": "code",
   "execution_count": 8,
   "metadata": {},
   "outputs": [
    {
     "name": "stdout",
     "output_type": "stream",
     "text": [
      "[[0.]\n",
      " [1.]]\n"
     ]
    }
   ],
   "source": [
    "x = inv_A.dot(b)\n",
    "print(x)"
   ]
  },
  {
   "cell_type": "code",
   "execution_count": 9,
   "metadata": {},
   "outputs": [],
   "source": [
    "# 2nd example ------------- 🎭\n",
    "\"\"\"\n",
    "Ax = b\n",
    "\n",
    "3x + y = 3\n",
    "2x + y = 7\n",
    "\n",
    "[3 1]  [x] = [3]\n",
    "[2 1]  [y] = [7]\n",
    "  A     x     b\n",
    "\n",
    "\"\"\""
   ]
  },
  {
   "cell_type": "code",
   "execution_count": 11,
   "metadata": {},
   "outputs": [
    {
     "name": "stdout",
     "output_type": "stream",
     "text": [
      "[[-4.]\n",
      " [15.]]\n"
     ]
    }
   ],
   "source": [
    "ex_2 = inv_A.dot([[3],[7]])\n",
    "print(ex_2)"
   ]
  },
  {
   "cell_type": "code",
   "execution_count": 12,
   "metadata": {},
   "outputs": [
    {
     "name": "stdout",
     "output_type": "stream",
     "text": [
      "[[3.]\n",
      " [7.]]\n"
     ]
    }
   ],
   "source": [
    "#Now backwards  ---> A normal Matrix * ex_2    ex_2 = inv_A.dot([[3],[7]])\n",
    "\n",
    "ex_2_back = A.dot(ex_2)\n",
    "print(ex_2_back)\n",
    " "
   ]
  },
  {
   "cell_type": "code",
   "execution_count": null,
   "metadata": {},
   "outputs": [],
   "source": []
  }
 ],
 "metadata": {
  "kernelspec": {
   "display_name": "Python 3",
   "language": "python",
   "name": "python3"
  },
  "language_info": {
   "codemirror_mode": {
    "name": "ipython",
    "version": 3
   },
   "file_extension": ".py",
   "mimetype": "text/x-python",
   "name": "python",
   "nbconvert_exporter": "python",
   "pygments_lexer": "ipython3",
   "version": "3.8.5"
  }
 },
 "nbformat": 4,
 "nbformat_minor": 4
}
