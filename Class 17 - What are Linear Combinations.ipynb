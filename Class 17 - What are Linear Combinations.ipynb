{
 "cells": [
  {
   "cell_type": "code",
   "execution_count": 1,
   "metadata": {},
   "outputs": [],
   "source": [
    "# 🪐 BASIC LINEAR COMBINATION 🪐 vec_1 = ([2,5])  vec_2 = ([3,2])"
   ]
  },
  {
   "cell_type": "code",
   "execution_count": 2,
   "metadata": {},
   "outputs": [],
   "source": [
    "%matplotlib inline\n",
    "\n",
    "import numpy as np\n",
    "\n",
    "import matplotlib.pyplot as plt"
   ]
  },
  {
   "cell_type": "code",
   "execution_count": 3,
   "metadata": {},
   "outputs": [],
   "source": [
    "%run \"./auxiliary_functions/graphVectors.ipynb\""
   ]
  },
  {
   "cell_type": "code",
   "execution_count": 4,
   "metadata": {},
   "outputs": [],
   "source": [
    "vec_1 = np.array([2,5])\n",
    "vec_2 = np.array([3,2])"
   ]
  },
  {
   "cell_type": "code",
   "execution_count": 5,
   "metadata": {},
   "outputs": [
    {
     "data": {
      "text/plain": [
       "array([ 7, 12])"
      ]
     },
     "execution_count": 5,
     "metadata": {},
     "output_type": "execute_result"
    }
   ],
   "source": [
    "both_v1v2 = (2*vec_1) + vec_2   #2*vec_1+3*vec_2  *3 was erased\n",
    "both_v1v2"
   ]
  },
  {
   "cell_type": "code",
   "execution_count": 6,
   "metadata": {},
   "outputs": [
    {
     "data": {
      "text/plain": [
       "(-2.0, 13.0)"
      ]
     },
     "execution_count": 6,
     "metadata": {},
     "output_type": "execute_result"
    },
    {
     "data": {
      "image/png": "[encoded data removed]",
      "text/plain": [
       "<Figure size 432x288 with 1 Axes>"
      ]
     },
     "metadata": {
      "needs_background": "light"
     },
     "output_type": "display_data"
    }
   ],
   "source": [
    "#Caller of the function. It receives 3 params, 1 is already set\n",
    "\n",
    "graphVectors([vec_1, vec_2, both_v1v2],[\"blue\", \"blue\", \"black\"])\n",
    "\n",
    "plt.xlim(-1, 8) #x = From -1 to +8\n",
    "plt.ylim(-2, 13)  #y = From -2 to +13\n",
    "\n",
    "#  plt.figure() is already running"
   ]
  },
  {
   "cell_type": "code",
   "execution_count": 7,
   "metadata": {},
   "outputs": [],
   "source": [
    "# 🪐 ALL POSSIBLE LINEAR COMBINATIONS 🪐 vec_1 = ([2,5])  vec_2 = ([3,2])"
   ]
  },
  {
   "cell_type": "code",
   "execution_count": 14,
   "metadata": {},
   "outputs": [
    {
     "data": {
      "image/png": "[encoded data removed]",
      "text/plain": [
       "<Figure size 432x288 with 1 Axes>"
      ]
     },
     "metadata": {
      "needs_background": "light"
     },
     "output_type": "display_data"
    }
   ],
   "source": [
    "for traveler in range(-2,2):\n",
    "    for trav2 in range(-4,4):\n",
    "        plt.scatter(vec_1[0]*traveler  +  vec_2[0]*trav2,\n",
    "                    vec_1[1]*traveler  +  vec_2[1]*trav2,\n",
    "                    marker = \"x\",\n",
    "                    color = \"green\")   \n",
    "        \n",
    "#The graph size limits\n",
    "plt.xlim(-20, 20) #x = From -1 to +8\n",
    "plt.ylim(-20, 20)  #y = From -2 to +13\n",
    "\n",
    "#Axis\n",
    "plt.axvline(x = -3, color = \"black\")\n",
    "plt.axhline(y = -2, color = \"black\")\n",
    "\n",
    "plt.show() "
   ]
  },
  {
   "cell_type": "code",
   "execution_count": 11,
   "metadata": {},
   "outputs": [],
   "source": [
    "# With the correct vectors (not parallel) we can represent any vector in the plane. ✔"
   ]
  },
  {
   "cell_type": "code",
   "execution_count": 15,
   "metadata": {},
   "outputs": [
    {
     "data": {
      "image/png": "[encoded data removed]",
      "text/plain": [
       "<Figure size 432x288 with 1 Axes>"
      ]
     },
     "metadata": {
      "needs_background": "light"
     },
     "output_type": "display_data"
    }
   ],
   "source": [
    "#New example\n",
    "v1 = np.array([1,0])\n",
    "v2 = np.array([0,1])\n",
    "\n",
    "for traveler in range(-10,10):\n",
    "    for trav2 in range(-10,10):\n",
    "        plt.scatter(v1[0]*traveler  +  v2[0]*trav2,\n",
    "                    v1[1]*traveler  +  v2[1]*trav2,\n",
    "                    marker = \".\",\n",
    "                    color = \"blue\")   \n",
    "        \n",
    "#The graph size limits\n",
    "plt.xlim(-13, 13) #x = From -1 to +8\n",
    "plt.ylim(-13, 13)  #y = From -2 to +13\n",
    "\n",
    "#Axis\n",
    "plt.axvline(x = 0, color = \"black\")\n",
    "plt.axhline(y = 0, color = \"black\")\n",
    "\n",
    "plt.show() "
   ]
  },
  {
   "cell_type": "code",
   "execution_count": null,
   "metadata": {},
   "outputs": [],
   "source": []
  }
 ],
 "metadata": {
  "kernelspec": {
   "display_name": "Python 3",
   "language": "python",
   "name": "python3"
  },
  "language_info": {
   "codemirror_mode": {
    "name": "ipython",
    "version": 3
   },
   "file_extension": ".py",
   "mimetype": "text/x-python",
   "name": "python",
   "nbconvert_exporter": "python",
   "pygments_lexer": "ipython3",
   "version": "3.8.5"
  }
 },
 "nbformat": 4,
 "nbformat_minor": 4
}
