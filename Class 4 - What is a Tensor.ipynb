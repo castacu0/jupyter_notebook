{
 "cells": [
  {
   "cell_type": "code",
   "execution_count": 1,
   "id": "collect-crowd",
   "metadata": {},
   "outputs": [
    {
     "name": "stdout",
     "output_type": "stream",
     "text": [
      "41.3\n"
     ]
    }
   ],
   "source": [
    "# SCALAR in Math\n",
    "scalar = 41.3\n",
    "print(scalar)"
   ]
  },
  {
   "cell_type": "code",
   "execution_count": 2,
   "id": "mexican-editor",
   "metadata": {},
   "outputs": [
    {
     "name": "stdout",
     "output_type": "stream",
     "text": [
      "True\n",
      "<class 'bool'>\n"
     ]
    }
   ],
   "source": [
    "# SCALAR in python  -  It can store Booleans, floats, str, int.\n",
    "scalar_py = True\n",
    "print(scalar_py)\n",
    "print(type(scalar_py))"
   ]
  },
  {
   "cell_type": "code",
   "execution_count": 3,
   "id": "figured-remedy",
   "metadata": {},
   "outputs": [],
   "source": [
    "import numpy as np"
   ]
  },
  {
   "cell_type": "code",
   "execution_count": 4,
   "id": "liked-merit",
   "metadata": {},
   "outputs": [
    {
     "name": "stdout",
     "output_type": "stream",
     "text": [
      "[1 2 3 4 5 6 7]\n"
     ]
    }
   ],
   "source": [
    "# VECTOR\n",
    "\n",
    "vector = np.array([1,2,3,4,5,6,7])\n",
    "print(vector)"
   ]
  },
  {
   "cell_type": "code",
   "execution_count": 5,
   "id": "distinct-leader",
   "metadata": {},
   "outputs": [
    {
     "name": "stdout",
     "output_type": "stream",
     "text": [
      "[[1 2]\n",
      " [3 4]\n",
      " [5 6]]\n"
     ]
    }
   ],
   "source": [
    "# MATRIX\n",
    "\n",
    "matrix = np.array([[1,2],[3,4],[5,6]])\n",
    "print(matrix)"
   ]
  },
  {
   "cell_type": "code",
   "execution_count": 6,
   "id": "federal-guide",
   "metadata": {},
   "outputs": [
    {
     "name": "stdout",
     "output_type": "stream",
     "text": [
      "[[[255 255 255]\n",
      "  [255 255 255]\n",
      "  [255 255 255]]\n",
      "\n",
      " [[  0   0   0]\n",
      "  [  0   0   0]\n",
      "  [  0   0   0]]\n",
      "\n",
      " [[128 128 128]\n",
      "  [128 128 128]\n",
      "  [128 128 128]]]\n"
     ]
    }
   ],
   "source": [
    "# TENSOR\n",
    "\n",
    "tensor = np.array([\n",
    "    [[255,255,255],[255,255,255],[255,255,255]],\n",
    "    [[0,0,0],[0,0,0],[0,0,0]],\n",
    "    [[128,128,128],[128,128,128],[128,128,128]]\n",
    "])\n",
    "print(tensor)"
   ]
  },
  {
   "cell_type": "code",
   "execution_count": 7,
   "id": "informational-karma",
   "metadata": {},
   "outputs": [],
   "source": [
    "# New import\n",
    "\n",
    "%matplotlib inline\n",
    "\n",
    "import matplotlib.pyplot as plt"
   ]
  },
  {
   "cell_type": "code",
   "execution_count": 9,
   "id": "variable-suicide",
   "metadata": {},
   "outputs": [
    {
     "data": {
      "image/png": "[encoded data removed]",
      "text/plain": [
       "<Figure size 432x288 with 1 Axes>"
      ]
     },
     "metadata": {
      "needs_background": "light"
     },
     "output_type": "display_data"
    }
   ],
   "source": [
    "plt.imshow(tensor, interpolation='nearest')\n",
    "plt.show()"
   ]
  },
  {
   "cell_type": "code",
   "execution_count": 32,
   "id": "unknown-robertson",
   "metadata": {},
   "outputs": [
    {
     "name": "stdout",
     "output_type": "stream",
     "text": [
      "[[[ 34 139  34]\n",
      "  [255 255 255]\n",
      "  [255   0   0]]\n",
      "\n",
      " [[ 34 139  34]\n",
      "  [255 255 255]\n",
      "  [255   0   0]]\n",
      "\n",
      " [[ 34 139  34]\n",
      "  [255 255 255]\n",
      "  [255   0   0]]]\n"
     ]
    }
   ],
   "source": [
    "# ITALIAN TENSOR\n",
    "\n",
    "colorful_tensor = np.array([\n",
    "    [[34,139,34], [255,255,255], [255,0,0]],\n",
    "    [[34,139,34], [255,255,255], [255,0,0]],\n",
    "    [[34,139,34], [255,255,255], [255,0,0]]\n",
    "])\n",
    "print(colorful_tensor)"
   ]
  },
  {
   "cell_type": "code",
   "execution_count": 33,
   "id": "organized-apple",
   "metadata": {},
   "outputs": [
    {
     "data": {
      "image/png": "[encoded data removed]",
      "text/plain": [
       "<Figure size 432x288 with 1 Axes>"
      ]
     },
     "metadata": {
      "needs_background": "light"
     },
     "output_type": "display_data"
    }
   ],
   "source": [
    "plt.imshow(colorful_tensor, interpolation='nearest')\n",
    "plt.show()"
   ]
  },
  {
   "cell_type": "code",
   "execution_count": null,
   "id": "conditional-franklin",
   "metadata": {},
   "outputs": [],
   "source": []
  }
 ],
 "metadata": {
  "kernelspec": {
   "display_name": "Python 3",
   "language": "python",
   "name": "python3"
  },
  "language_info": {
   "codemirror_mode": {
    "name": "ipython",
    "version": 3
   },
   "file_extension": ".py",
   "mimetype": "text/x-python",
   "name": "python",
   "nbconvert_exporter": "python",
   "pygments_lexer": "ipython3",
   "version": "3.8.5"
  }
 },
 "nbformat": 4,
 "nbformat_minor": 5
}
