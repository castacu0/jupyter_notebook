{
 "cells": [
  {
   "cell_type": "code",
   "execution_count": 1,
   "id": "emotional-upper",
   "metadata": {},
   "outputs": [],
   "source": [
    "import numpy as np"
   ]
  },
  {
   "cell_type": "code",
   "execution_count": 2,
   "id": "bored-ambassador",
   "metadata": {},
   "outputs": [],
   "source": [
    "scalar = 7.45"
   ]
  },
  {
   "cell_type": "code",
   "execution_count": 3,
   "id": "registered-wiring",
   "metadata": {},
   "outputs": [],
   "source": [
    "vector = np.array ([2,8,5,4])"
   ]
  },
  {
   "cell_type": "code",
   "execution_count": 4,
   "id": "protecting-option",
   "metadata": {},
   "outputs": [],
   "source": [
    "matrix = np.array ([[9,3,7],[4,6,1]])\n"
   ]
  },
  {
   "cell_type": "code",
   "execution_count": 5,
   "id": "covered-communist",
   "metadata": {},
   "outputs": [],
   "source": [
    "tensor = np.array ([\n",
    "    \n",
    "[[ 225, 225, 225], [ 225, 225, 225], [ 225, 225, 225]],\n",
    "[[0, 0, 0], [0, 0, 0], [0, 0, 0]],\n",
    "[[112, 112, 112], [112, 112, 112], [112, 112, 112]]\n",
    "\n",
    "])"
   ]
  },
  {
   "cell_type": "code",
   "execution_count": 6,
   "id": "tight-young",
   "metadata": {},
   "outputs": [
    {
     "name": "stdout",
     "output_type": "stream",
     "text": [
      "[2 8 5 4]\n",
      "\n",
      "\n",
      "(4,)\n",
      "\n",
      "\n",
      "4\n"
     ]
    }
   ],
   "source": [
    "# Vector\n",
    "print(vector)\n",
    "print(\"\\n\")\n",
    "print(vector.shape)\n",
    "print(\"\\n\")\n",
    "print(len(vector))"
   ]
  },
  {
   "cell_type": "code",
   "execution_count": 7,
   "id": "heavy-logan",
   "metadata": {},
   "outputs": [
    {
     "name": "stdout",
     "output_type": "stream",
     "text": [
      "[[9 3 7]\n",
      " [4 6 1]]\n",
      "\n",
      "\n",
      "(2, 3)\n",
      "\n",
      "\n",
      "2\n"
     ]
    }
   ],
   "source": [
    "# Matrix\n",
    "print(matrix)\n",
    "print(\"\\n\")\n",
    "print(matrix.shape)\n",
    "print(\"\\n\")\n",
    "print(len(matrix))"
   ]
  },
  {
   "cell_type": "code",
   "execution_count": 8,
   "id": "raising-clause",
   "metadata": {},
   "outputs": [
    {
     "name": "stdout",
     "output_type": "stream",
     "text": [
      "[[[225 225 225]\n",
      "  [225 225 225]\n",
      "  [225 225 225]]\n",
      "\n",
      " [[  0   0   0]\n",
      "  [  0   0   0]\n",
      "  [  0   0   0]]\n",
      "\n",
      " [[112 112 112]\n",
      "  [112 112 112]\n",
      "  [112 112 112]]]\n",
      "\n",
      "\n",
      "(3, 3, 3)\n",
      "\n",
      "\n",
      "3\n"
     ]
    }
   ],
   "source": [
    "# Tensor\n",
    "\n",
    "print(tensor)\n",
    "print(\"\\n\")\n",
    "print(tensor.shape)\n",
    "print(\"\\n\")\n",
    "print(len(tensor))"
   ]
  }
 ],
 "metadata": {
  "kernelspec": {
   "display_name": "Python 3",
   "language": "python",
   "name": "python3"
  },
  "language_info": {
   "codemirror_mode": {
    "name": "ipython",
    "version": 3
   },
   "file_extension": ".py",
   "mimetype": "text/x-python",
   "name": "python",
   "nbconvert_exporter": "python",
   "pygments_lexer": "ipython3",
   "version": "3.8.5"
  }
 },
 "nbformat": 4,
 "nbformat_minor": 5
}
