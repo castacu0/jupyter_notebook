{
 "cells": [
  {
   "cell_type": "code",
   "execution_count": 1,
   "metadata": {},
   "outputs": [],
   "source": [
    "def graphVectors(par_vec, par_colors, alpha=1):\n",
    "    \n",
    "    plt.figure()\n",
    "    \n",
    "    plt.axvline(x = 0, color=\"red\", zorder=0)\n",
    "    plt.axhline(y = 0, color=\"red\", zorder=0)\n",
    "    \n",
    "    for i in range(len(par_vec)):\n",
    "        x = np.concatenate([[0,0], par_vec[i]]) \n",
    "            \n",
    "        plt.quiver([x[0]], [x[1]], [x[2]], [x[3]],\n",
    "                   angles=\"xy\", scale_units=\"xy\", scale=1,\n",
    "                   color=par_colors[i], alpha=alpha)"
   ]
  },
  {
   "cell_type": "code",
   "execution_count": null,
   "metadata": {},
   "outputs": [],
   "source": []
  }
 ],
 "metadata": {
  "kernelspec": {
   "display_name": "Python 3",
   "language": "python",
   "name": "python3"
  },
  "language_info": {
   "codemirror_mode": {
    "name": "ipython",
    "version": 3
   },
   "file_extension": ".py",
   "mimetype": "text/x-python",
   "name": "python",
   "nbconvert_exporter": "python",
   "pygments_lexer": "ipython3",
   "version": "3.8.5"
  }
 },
 "nbformat": 4,
 "nbformat_minor": 4
}
